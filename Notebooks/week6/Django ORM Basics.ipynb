{
 "cells": [
  {
   "cell_type": "markdown",
   "metadata": {},
   "source": [
    "#Django Basics\n",
    "\n",
    "#### Disclaimer - None of the cells in this notebook will work and exist only for formatting."
   ]
  },
  {
   "cell_type": "markdown",
   "metadata": {},
   "source": [
    "## Defining Models\n",
    "\n",
    "You need to define your model definitions and relations in your models.py file.  The easiest way to think about your models is to imagine them stored in the database, or even simpler yet - a pandas DataFrame.\n",
    "\n",
    " - Your class represents the database table\n",
    " - The 'fields' on the class represent columns of the table\n",
    " - The instance of the class represents a row in the database table\n",
    " \n",
    "Below we will define a `Food` and a `Person` model for use in our application."
   ]
  },
  {
   "cell_type": "code",
   "execution_count": null,
   "metadata": {
    "collapsed": true
   },
   "outputs": [],
   "source": [
    "# in your_app/models.py\n",
    "\n",
    "from django.db import models\n",
    "\n",
    "\n",
    "class Food(models.Model):\n",
    "    name = models.CharField(max_length=20)\n",
    "    spicy = models.BooleanField(default=False)\n",
    "\n",
    "    \n",
    "class Person(models.Model):\n",
    "    name = models.CharField(max_length=100)\n",
    "    favorite_food = models.ForeignKey(Food)"
   ]
  },
  {
   "cell_type": "markdown",
   "metadata": {},
   "source": [
    "And if we want to create instances of these models in our database we'd do this:"
   ]
  },
  {
   "cell_type": "code",
   "execution_count": null,
   "metadata": {
    "collapsed": true
   },
   "outputs": [],
   "source": [
    "from your_app.models import Food, Person\n",
    "\n",
    "my_favorite_food = Food.objects.create(name=\"Hamburgers\", spicy=True)\n",
    "joel = Person.objects.create(name=\"Joel\", favorite_food=my_favorite_food)\n",
    "\n",
    "# Is Joel's favorite food spicy?\n",
    "print(joel.favorite_food.spicy)"
   ]
  },
  {
   "cell_type": "markdown",
   "metadata": {},
   "source": [
    "This handy snippet will act"
   ]
  }
 ],
 "metadata": {
  "kernelspec": {
   "display_name": "Python 3",
   "language": "python",
   "name": "python3"
  },
  "language_info": {
   "codemirror_mode": {
    "name": "ipython",
    "version": 3
   },
   "file_extension": ".py",
   "mimetype": "text/x-python",
   "name": "python",
   "nbconvert_exporter": "python",
   "pygments_lexer": "ipython3",
   "version": "3.4.3"
  }
 },
 "nbformat": 4,
 "nbformat_minor": 0
}
