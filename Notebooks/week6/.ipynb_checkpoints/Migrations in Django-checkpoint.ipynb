{
 "cells": [
  {
   "cell_type": "markdown",
   "metadata": {},
   "source": [
    "# Migrations in Django\n",
    "\n",
    "Migrations are fairly new to the Django workflow.  Previously known as an external library called `south`, you no longer need to rely on an external dependency to manage your migrations in your Django projects.\n",
    "\n",
    "#### What is a migration?\n",
    "\n",
    "A migration is a scripted version of any action you want to take on your database. Including:\n",
    "\n",
    " - Schema changes\n",
    "  - Table name change\n",
    "  - Field name change\n",
    "  - Field type change\n",
    " - Data changes\n",
    "  - Cleaning up corrupt data\n",
    "  - Loading initial fixture data\n",
    "  \n",
    "Migrations are a two step process and we'll discuss each step below."
   ]
  },
  {
   "cell_type": "markdown",
   "metadata": {},
   "source": [
    "# Schema Migrations\n",
    "\n",
    "Our schema will rarely ever stay the same throughout the lifecycle of our application.  We should have many requirements where we change a field or add a field to our model and we need to bubble that change down to our database (It should be said that just by changing something in your `models.py` file does not make the change to your database).  In order to get the changes down to the database level we need to generate a migration and run it.\n",
    "\n",
    "Give a `models.py` that looks like below:"
   ]
  },
  {
   "cell_type": "code",
   "execution_count": null,
   "metadata": {
    "collapsed": true
   },
   "outputs": [],
   "source": [
    "from django.db import models\n",
    "\n",
    "class Person(models.Model):\n",
    "    age = models.IntegerField()\n",
    "    name = models.CharField(max_length=100)\n"
   ]
  },
  {
   "cell_type": "markdown",
   "metadata": {},
   "source": [
    "That's great but say we want to make a change to that.  Lets make our `name` field smaller and lets add a `hair_color` attribute.  So now our `models.py` looks like:"
   ]
  },
  {
   "cell_type": "code",
   "execution_count": null,
   "metadata": {
    "collapsed": true
   },
   "outputs": [],
   "source": [
    "from django.db import models\n",
    "\n",
    "class Person(models.Model):\n",
    "    age = models.IntegerField()\n",
    "    name = models.CharField(max_length=50)\n",
    "    hair_color = models.CharField(max_length=10)\n"
   ]
  },
  {
   "cell_type": "markdown",
   "metadata": {},
   "source": [
    "That's nice but now we need to get that change to our database."
   ]
  },
  {
   "cell_type": "code",
   "execution_count": null,
   "metadata": {
    "collapsed": true
   },
   "outputs": [],
   "source": [
    "WIP WIP"
   ]
  }
 ],
 "metadata": {
  "kernelspec": {
   "display_name": "Python 3",
   "language": "python",
   "name": "python3"
  },
  "language_info": {
   "codemirror_mode": {
    "name": "ipython",
    "version": 3
   },
   "file_extension": ".py",
   "mimetype": "text/x-python",
   "name": "python",
   "nbconvert_exporter": "python",
   "pygments_lexer": "ipython3",
   "version": "3.4.3"
  }
 },
 "nbformat": 4,
 "nbformat_minor": 0
}
