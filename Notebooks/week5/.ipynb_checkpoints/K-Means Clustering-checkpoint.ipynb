{
 "cells": [
  {
   "cell_type": "markdown",
   "metadata": {},
   "source": [
    "# Unsupervised Machine Learning\n",
    "\n",
    "## KMeans Clustering\n",
    "\n",
    "Unsupervised machine learning is different from Supervised machine learning in one major way.\n",
    "\n",
    "> Unsupervised does not include the use of labels for your data.\n",
    "\n",
    "You may remember in our classification and regression methods we carefully selected the criteria to maximize the effectiveness of our prediction models. This was often referred to as \"giving our model both the questions and the answers, because we have more questions we need answers to\".\n",
    "\n",
    "In an unsupervised learning model we either want to perform an ignorant analysis on the data or we do not have the labels available. Why your labels are not available could be any number of reasons but still - we want to figure our \"something\" with our data."
   ]
  },
  {
   "cell_type": "markdown",
   "metadata": {},
   "source": [
    "## Principal Component Analysis (PCA)\n",
    "\n",
    "The first thing we need to do when we are working with unlabeled data is to pair it down into easily consumable data.  As we will see below in our `iris data`, the original shape is:\n",
    "\n",
    "> `(150, 4)`\n",
    "\n",
    "For our purposes we want to be able to plot our data in 2 dimensions (x and y) so we can ask `scikit-learn` to perform our PCA for us and it will pick the `n` most impactful (possibly most corelated) unlabeled features for us to use in our clustering analysis.  By passing an `n_components` of 2, it will reshape our data so it's easier for us to plot.\n",
    "\n",
    "> `(150, 2)`"
   ]
  },
  {
   "cell_type": "code",
   "execution_count": 64,
   "metadata": {
    "collapsed": false
   },
   "outputs": [],
   "source": [
    "import matplotlib.pyplot as plt"
   ]
  },
  {
   "cell_type": "code",
   "execution_count": 65,
   "metadata": {
    "collapsed": false
   },
   "outputs": [],
   "source": [
    "%matplotlib inline"
   ]
  },
  {
   "cell_type": "code",
   "execution_count": 69,
   "metadata": {
    "collapsed": false
   },
   "outputs": [],
   "source": [
    "from sklearn.datasets import load_iris\n",
    "from sklearn import preprocessing\n",
    "from sklearn.decomposition import PCA\n",
    "\n",
    "iris = load_iris()\n",
    "X = iris.data"
   ]
  },
  {
   "cell_type": "code",
   "execution_count": 77,
   "metadata": {
    "collapsed": false
   },
   "outputs": [
    {
     "name": "stdout",
     "output_type": "stream",
     "text": [
      "['sepal length (cm)', 'sepal width (cm)', 'petal length (cm)', 'petal width (cm)']\n",
      "unreduced data shape (150, 4)\n",
      "\n",
      "You don't really want to know what it did to our features\n",
      "reduced data shape (150, 2)\n"
     ]
    }
   ],
   "source": [
    "pca = PCA(n_components=2)\n",
    "pca.fit(X)\n",
    "reduced_X = pca.transform(X)\n",
    "\n",
    "print(iris.feature_names)\n",
    "print(\"unreduced data shape\", X.shape)\n",
    "print(\"\\nYou don't really want to know what it did to our features\")\n",
    "print(\"reduced data shape\", reduced_X.shape)"
   ]
  },
  {
   "cell_type": "markdown",
   "metadata": {},
   "source": [
    "### Pandas why not?\n",
    "\n",
    "Because we all love pandas, lets take a look at our original and reduced data."
   ]
  },
  {
   "cell_type": "code",
   "execution_count": 70,
   "metadata": {
    "collapsed": false
   },
   "outputs": [
    {
     "name": "stdout",
     "output_type": "stream",
     "text": [
      "     0    1    2    3\n",
      "0  5.1  3.5  1.4  0.2\n",
      "1  4.9  3.0  1.4  0.2\n",
      "2  4.7  3.2  1.3  0.2\n",
      "3  4.6  3.1  1.5  0.2\n",
      "4  5.0  3.6  1.4  0.2\n",
      "          0         1\n",
      "0 -2.684207 -0.326607\n",
      "1 -2.715391  0.169557\n",
      "2 -2.889820  0.137346\n",
      "3 -2.746437  0.311124\n",
      "4 -2.728593 -0.333925\n"
     ]
    }
   ],
   "source": [
    "import pandas as pd\n",
    "print(pd.DataFrame(X).head())\n",
    "print(pd.DataFrame(reduced_X).head())"
   ]
  },
  {
   "cell_type": "markdown",
   "metadata": {},
   "source": [
    "Oof! What happened?\n",
    "\n",
    "Well our `PCA` found a common relation between all 4 columns and applied that to them in order to reduce our amount of features down to two.  Voodoo? I think so!"
   ]
  },
  {
   "cell_type": "markdown",
   "metadata": {},
   "source": [
    "### Visualizing\n",
    "\n",
    "Okay so we've got our \"iris data\" broken down into 2 features, lets see the X and the Y plotted."
   ]
  },
  {
   "cell_type": "code",
   "execution_count": 63,
   "metadata": {
    "collapsed": false
   },
   "outputs": [
    {
     "data": {
      "image/png": "[encoded data removed]",
      "text/plain": [
       "<matplotlib.figure.Figure at 0x10c2c5860>"
      ]
     },
     "metadata": {},
     "output_type": "display_data"
    }
   ],
   "source": [
    "plt.figure(figsize=(8, 6))\n",
    "plt.scatter(reduced_X[:,0], reduced_X[:,1])\n",
    "plt.title(\"Iris dataset with ?? clusters\")\n",
    "plt.show()"
   ]
  },
  {
   "cell_type": "markdown",
   "metadata": {},
   "source": [
    "Interesting... Visually I can see 2 clearly defined clusters.  But what do we do when our superior asks me to provide 3 defined clusters to her?  What about 4 -> n clusters?\n",
    "\n",
    "Well we ask `scikit-learn` to do our work for us that's how."
   ]
  },
  {
   "cell_type": "markdown",
   "metadata": {},
   "source": [
    "Notice that with unsupervised learning we do NOT provide any Y labels to the `.fit()`.  This is because it will attempt to figure out our labels for us.  More voodoo magic? I'll let you decide.\n",
    "\n",
    "Also the `.predict()` method merely provides a list of integers that represent which cluster each element belongs to."
   ]
  },
  {
   "cell_type": "code",
   "execution_count": 83,
   "metadata": {
    "collapsed": false
   },
   "outputs": [],
   "source": [
    "from sklearn.cluster import KMeans\n",
    "\n",
    "kmeans = KMeans(3)\n",
    "kmeans.fit(reduced_X)\n",
    "y_pred = kmeans.predict(reduced_X)"
   ]
  },
  {
   "cell_type": "code",
   "execution_count": 84,
   "metadata": {
    "collapsed": false
   },
   "outputs": [
    {
     "name": "stdout",
     "output_type": "stream",
     "text": [
      "[1 1 1 1 1 1 1 1 1 1 1 1 1 1 1 1 1 1 1 1 1 1 1 1 1 1 1 1 1 1 1 1 1 1 1 1 1\n",
      " 1 1 1 1 1 1 1 1 1 1 1 1 1 2 0 2 0 0 0 0 0 0 0 0 0 0 0 0 0 0 0 0 0 0 0 0 0\n",
      " 0 0 0 2 0 0 0 0 0 0 0 0 0 0 0 0 0 0 0 0 0 0 0 0 0 0 2 0 2 2 2 2 0 2 2 2 2\n",
      " 2 2 0 0 2 2 2 2 0 2 0 2 0 2 2 0 0 2 2 2 2 2 0 2 2 2 2 0 2 2 2 0 2 2 2 0 2\n",
      " 2 0]\n"
     ]
    }
   ],
   "source": [
    "print(y_pred)"
   ]
  },
  {
   "cell_type": "markdown",
   "metadata": {},
   "source": [
    "Basically every number in the above array is associated with an X and Y plot point on our graph (by index).  This way we can assign our `y_pred` array to our `c` kwarg for our scatter plot."
   ]
  },
  {
   "cell_type": "markdown",
   "metadata": {},
   "source": [
    "We can even zip the `reduced_X` with our `y_pred` variables to generate a report of item locations and their associated cluster. Neat eh?  Goooooo Pandas!"
   ]
  },
  {
   "cell_type": "code",
   "execution_count": 89,
   "metadata": {
    "collapsed": false
   },
   "outputs": [
    {
     "data": {
      "text/html": [
       "<div>\n",
       "<table border=\"1\" class=\"dataframe\">\n",
       "  <thead>\n",
       "    <tr style=\"text-align: right;\">\n",
       "      <th></th>\n",
       "      <th>Location (X, Y)</th>\n",
       "      <th>Cluster</th>\n",
       "    </tr>\n",
       "  </thead>\n",
       "  <tbody>\n",
       "    <tr>\n",
       "      <th>0</th>\n",
       "      <td>[-2.6842071251, -0.326607314764]</td>\n",
       "      <td>1</td>\n",
       "    </tr>\n",
       "    <tr>\n",
       "      <th>1</th>\n",
       "      <td>[-2.71539061563, 0.169556847556]</td>\n",
       "      <td>1</td>\n",
       "    </tr>\n",
       "    <tr>\n",
       "      <th>2</th>\n",
       "      <td>[-2.88981953962, 0.137345609605]</td>\n",
       "      <td>1</td>\n",
       "    </tr>\n",
       "    <tr>\n",
       "      <th>3</th>\n",
       "      <td>[-2.74643719731, 0.311124315752]</td>\n",
       "      <td>1</td>\n",
       "    </tr>\n",
       "    <tr>\n",
       "      <th>4</th>\n",
       "      <td>[-2.72859298183, -0.333924563568]</td>\n",
       "      <td>1</td>\n",
       "    </tr>\n",
       "  </tbody>\n",
       "</table>\n",
       "</div>"
      ],
      "text/plain": [
       "                     Location (X, Y)  Cluster\n",
       "0   [-2.6842071251, -0.326607314764]        1\n",
       "1   [-2.71539061563, 0.169556847556]        1\n",
       "2   [-2.88981953962, 0.137345609605]        1\n",
       "3   [-2.74643719731, 0.311124315752]        1\n",
       "4  [-2.72859298183, -0.333924563568]        1"
      ]
     },
     "execution_count": 89,
     "metadata": {},
     "output_type": "execute_result"
    }
   ],
   "source": [
    "pd.DataFrame(list(zip(reduced_X, y_pred)), columns=[\"Location (X, Y)\", \"Cluster\"]).head()"
   ]
  },
  {
   "cell_type": "code",
   "execution_count": 97,
   "metadata": {
    "collapsed": false
   },
   "outputs": [
    {
     "data": {
      "image/png": "[encoded data removed]",
      "text/plain": [
       "<matplotlib.figure.Figure at 0x10b32f828>"
      ]
     },
     "metadata": {},
     "output_type": "display_data"
    }
   ],
   "source": [
    "plt.figure(figsize=(8, 6))\n",
    "plt.scatter(reduced_X[:,0], reduced_X[:,1], c=y_pred, cmap=\"RdYlBu\")\n",
    "#plt.scatter(kmeans.cluster_centers_[:,0], kmeans.cluster_centers_[:,1], alpha=.5, s=250)\n",
    "plt.title(\"Iris dataset with 3 clusters\")\n",
    "plt.show()"
   ]
  },
  {
   "cell_type": "markdown",
   "metadata": {},
   "source": [
    "### Clustering random data - because why not?"
   ]
  },
  {
   "cell_type": "code",
   "execution_count": 100,
   "metadata": {
    "collapsed": true
   },
   "outputs": [],
   "source": [
    "import numpy as np"
   ]
  },
  {
   "cell_type": "markdown",
   "metadata": {},
   "source": [
    "First lets generated 3 sets of \"kind of\" clustered data."
   ]
  },
  {
   "cell_type": "code",
   "execution_count": 111,
   "metadata": {
    "collapsed": false
   },
   "outputs": [],
   "source": [
    "x1 = np.random.normal(0.5, 0.5, 50)\n",
    "y1 = np.random.normal(2.5, 0.5, 50)\n",
    "\n",
    "x2 = np.random.normal(1.5, 0.5, 50)\n",
    "y2 = np.random.normal(0.5, 0.5, 50)\n",
    "\n",
    "x3 = np.random.normal(2.5, 0.5, 50)\n",
    "y3 = np.random.normal(1.5, 0.5, 50)"
   ]
  },
  {
   "cell_type": "code",
   "execution_count": 114,
   "metadata": {
    "collapsed": false
   },
   "outputs": [
    {
     "data": {
      "text/plain": [
       "<matplotlib.collections.PathCollection at 0x10b5432e8>"
      ]
     },
     "execution_count": 114,
     "metadata": {},
     "output_type": "execute_result"
    },
    {
     "data": {
      "image/png": "[encoded data removed]",
      "text/plain": [
       "<matplotlib.figure.Figure at 0x10d3cc6d8>"
      ]
     },
     "metadata": {},
     "output_type": "display_data"
    }
   ],
   "source": [
    "plt.scatter(x1, y1, marker=\"*\")#, color=\"b\")\n",
    "plt.scatter(x2, y2, marker=\"*\")#, color=\"r\")\n",
    "plt.scatter(x3, y3, marker=\"*\")#, color=\"y\")"
   ]
  },
  {
   "cell_type": "code",
   "execution_count": 117,
   "metadata": {
    "collapsed": false
   },
   "outputs": [],
   "source": [
    "c1 = np.column_stack((x1, y1))\n",
    "c2 = np.column_stack((x2, y2))\n",
    "c3 = np.column_stack((x3, y3))\n",
    "\n",
    "data = np.vstack((c1, c2, c3))"
   ]
  },
  {
   "cell_type": "code",
   "execution_count": 122,
   "metadata": {
    "collapsed": false
   },
   "outputs": [
    {
     "data": {
      "text/plain": [
       "<matplotlib.collections.PathCollection at 0x10db44940>"
      ]
     },
     "execution_count": 122,
     "metadata": {},
     "output_type": "execute_result"
    },
    {
     "data": {
      "image/png": "[encoded data removed]",
      "text/plain": [
       "<matplotlib.figure.Figure at 0x10d9ead30>"
      ]
     },
     "metadata": {},
     "output_type": "display_data"
    }
   ],
   "source": [
    "kmeans2 = KMeans(3)\n",
    "labels = kmeans2.fit_predict(data)\n",
    "#plt.scatter(kmeans2.cluster_centers_[:,0], kmeans2.cluster_centers_[:,1], alpha=.5, s=250)\n",
    "plt.scatter(data[:, 0], data[:, 1], c=labels, cmap=\"RdYlBu\")"
   ]
  },
  {
   "cell_type": "markdown",
   "metadata": {},
   "source": [
    "## Exercise\n",
    "\n",
    "Reduce image to 16 colors using clustering."
   ]
  },
  {
   "cell_type": "code",
   "execution_count": null,
   "metadata": {
    "collapsed": false
   },
   "outputs": [],
   "source": [
    "from PIL import Image\n",
    "from IPython.display import Image as IPythonImage\n",
    "im = Image.open(\"bird_small.jpg\")\n",
    "# print(np.asarray(im))\n",
    "IPythonImage(filename='bird_small.jpg')"
   ]
  },
  {
   "cell_type": "code",
   "execution_count": null,
   "metadata": {
    "collapsed": false
   },
   "outputs": [],
   "source": [
    "plt.imshow(np.asarray(im))"
   ]
  },
  {
   "cell_type": "code",
   "execution_count": null,
   "metadata": {
    "collapsed": false
   },
   "outputs": [],
   "source": []
  }
 ],
 "metadata": {
  "kernelspec": {
   "display_name": "Python 3",
   "language": "python",
   "name": "python3"
  },
  "language_info": {
   "codemirror_mode": {
    "name": "ipython",
    "version": 3
   },
   "file_extension": ".py",
   "mimetype": "text/x-python",
   "name": "python",
   "nbconvert_exporter": "python",
   "pygments_lexer": "ipython3",
   "version": "3.4.3"
  }
 },
 "nbformat": 4,
 "nbformat_minor": 0
}
