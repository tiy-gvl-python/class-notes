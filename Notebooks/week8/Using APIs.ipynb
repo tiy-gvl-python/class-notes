{
 "cells": [
  {
   "cell_type": "markdown",
   "metadata": {},
   "source": [
    "## Consuming (using) APIs\n",
    "\n",
    "One side of the API story is utilizing an API to accomplish your task at hand.  Think of an API service as a \"database over the web\" - you won't always have all of the data you need on hand but that shouldn't stop you from utlizing it.  Alot of types of info can be retrieved over an API.\n",
    "\n",
    " - Weather Data\n",
    " - Traffic Data\n",
    " - Demographic Data\n",
    " - Star Wars trivia data\n",
    " - Movie Data\n",
    " - Sports Data\n",
    " - ETC ETC ETC\n",
    " \n",
    "Obviously there is a lot of great information out there that you can access - so lets get started utilizing The Star Wars Api (tm)"
   ]
  },
  {
   "cell_type": "markdown",
   "metadata": {},
   "source": [
    "The `requests` library is the core of our \"API Client\""
   ]
  },
  {
   "cell_type": "code",
   "execution_count": 1,
   "metadata": {
    "collapsed": true
   },
   "outputs": [],
   "source": [
    "import requests"
   ]
  },
  {
   "cell_type": "markdown",
   "metadata": {},
   "source": [
    "To \"request\" data with the `get` verb just call the `get` method on the requests module with the URL."
   ]
  },
  {
   "cell_type": "code",
   "execution_count": 58,
   "metadata": {
    "collapsed": false
   },
   "outputs": [],
   "source": [
    "response = requests.get(\"http://swapi.co/api/people/1\")"
   ]
  },
  {
   "cell_type": "markdown",
   "metadata": {},
   "source": [
    "Lets take a look at the raw information that came back from the API."
   ]
  },
  {
   "cell_type": "code",
   "execution_count": 6,
   "metadata": {
    "collapsed": false
   },
   "outputs": [
    {
     "data": {
      "text/plain": [
       "b'{\"name\":\"Luke Skywalker\",\"height\":\"172\",\"mass\":\"77\",\"hair_color\":\"blond\",\"skin_color\":\"fair\",\"eye_color\":\"blue\",\"birth_year\":\"19BBY\",\"gender\":\"male\",\"homeworld\":\"http://swapi.co/api/planets/1/\",\"films\":[\"http://swapi.co/api/films/7/\",\"http://swapi.co/api/films/6/\",\"http://swapi.co/api/films/3/\",\"http://swapi.co/api/films/2/\",\"http://swapi.co/api/films/1/\"],\"species\":[\"http://swapi.co/api/species/1/\"],\"vehicles\":[\"http://swapi.co/api/vehicles/14/\",\"http://swapi.co/api/vehicles/30/\"],\"starships\":[\"http://swapi.co/api/starships/12/\",\"http://swapi.co/api/starships/22/\"],\"created\":\"2014-12-09T13:50:51.644000Z\",\"edited\":\"2014-12-20T21:17:56.891000Z\",\"url\":\"http://swapi.co/api/people/1/\"}'"
      ]
     },
     "execution_count": 6,
     "metadata": {},
     "output_type": "execute_result"
    }
   ],
   "source": [
    "response.content"
   ]
  },
  {
   "cell_type": "markdown",
   "metadata": {},
   "source": [
    "Notice that there aren't any HTML tags!  Neat.  This is like asking a website for a piece of data - or asking a website to make a database call for you!\n",
    "\n",
    "To interpret the data coming over we can use the `json` library.  The `json` library serves many purposes but the 2 most important are to:\n",
    "\n",
    " - `loads` -> converts a json string of information into a dict/list (aka native python object)\n",
    " - `dumps` -> converts a native python object (dict/list) into a string in order to send it \"over the wire\""
   ]
  },
  {
   "cell_type": "code",
   "execution_count": 9,
   "metadata": {
    "collapsed": false
   },
   "outputs": [],
   "source": [
    "import json"
   ]
  },
  {
   "cell_type": "code",
   "execution_count": 62,
   "metadata": {
    "collapsed": false
   },
   "outputs": [
    {
     "name": "stdout",
     "output_type": "stream",
     "text": [
      "<class 'str'> [{\"id\": 42, \"eye_color\": \"green\", \"name\": \"Joel\"}]\n",
      "<class 'list'> [{'id': 42, 'name': 'Joel', 'eye_color': 'green'}]\n"
     ]
    }
   ],
   "source": [
    "base_info_bundle = [{\"name\": \"Joel\", \"id\": 42, \"eye_color\": \"green\"}]\n",
    "\n",
    "serialized_info = json.dumps(base_info_bundle)\n",
    "print(type(serialized_info), serialized_info)\n",
    "\n",
    "native_info = json.loads(serialized_info)\n",
    "print(type(native_info), native_info)"
   ]
  },
  {
   "cell_type": "markdown",
   "metadata": {},
   "source": [
    "But thanks to `requests` being an awesome library, maybe we can ask for the json right on the response object."
   ]
  },
  {
   "cell_type": "code",
   "execution_count": 63,
   "metadata": {
    "collapsed": false
   },
   "outputs": [
    {
     "name": "stdout",
     "output_type": "stream",
     "text": [
      "<class 'dict'>\n",
      "{'hair_color': 'blond', 'vehicles': ['http://swapi.co/api/vehicles/14/', 'http://swapi.co/api/vehicles/30/'], 'starships': ['http://swapi.co/api/starships/12/', 'http://swapi.co/api/starships/22/'], 'height': '172', 'mass': '77', 'created': '2014-12-09T13:50:51.644000Z', 'eye_color': 'blue', 'birth_year': '19BBY', 'gender': 'male', 'skin_color': 'fair', 'edited': '2014-12-20T21:17:56.891000Z', 'homeworld': 'http://swapi.co/api/planets/1/', 'species': ['http://swapi.co/api/species/1/'], 'films': ['http://swapi.co/api/films/7/', 'http://swapi.co/api/films/6/', 'http://swapi.co/api/films/3/', 'http://swapi.co/api/films/2/', 'http://swapi.co/api/films/1/'], 'url': 'http://swapi.co/api/people/1/', 'name': 'Luke Skywalker'}\n"
     ]
    }
   ],
   "source": [
    "print(type(response.json()))\n",
    "print(response.json())"
   ]
  },
  {
   "cell_type": "markdown",
   "metadata": {},
   "source": [
    "#### WOAH!\n",
    "\n",
    "This actually took our `str` of json content and converted it right to a native python object for us - that may be helpful."
   ]
  },
  {
   "cell_type": "markdown",
   "metadata": {},
   "source": [
    "Lets start writing a series of functions to make working with the SWAPI easier:"
   ]
  },
  {
   "cell_type": "code",
   "execution_count": 19,
   "metadata": {
    "collapsed": false
   },
   "outputs": [],
   "source": [
    "def get_person(person_id):\n",
    "    return requests.get(\"http://swapi.co/api/people/{}/\".format(person_id)).json()"
   ]
  },
  {
   "cell_type": "code",
   "execution_count": 21,
   "metadata": {
    "collapsed": false
   },
   "outputs": [],
   "source": [
    "vader = get_person(4)"
   ]
  },
  {
   "cell_type": "code",
   "execution_count": 25,
   "metadata": {
    "collapsed": false
   },
   "outputs": [
    {
     "data": {
      "text/plain": [
       "{'birth_year': '41.9BBY',\n",
       " 'created': '2014-12-10T15:18:20.704000Z',\n",
       " 'edited': '2014-12-20T21:17:50.313000Z',\n",
       " 'eye_color': 'yellow',\n",
       " 'films': ['http://swapi.co/api/films/6/',\n",
       "  'http://swapi.co/api/films/3/',\n",
       "  'http://swapi.co/api/films/2/',\n",
       "  'http://swapi.co/api/films/1/'],\n",
       " 'gender': 'male',\n",
       " 'hair_color': 'none',\n",
       " 'height': '202',\n",
       " 'homeworld': 'http://swapi.co/api/planets/1/',\n",
       " 'mass': '136',\n",
       " 'name': 'Darth Vader',\n",
       " 'skin_color': 'white',\n",
       " 'species': ['http://swapi.co/api/species/1/'],\n",
       " 'starships': ['http://swapi.co/api/starships/13/'],\n",
       " 'url': 'http://swapi.co/api/people/4/',\n",
       " 'vehicles': []}"
      ]
     },
     "execution_count": 25,
     "metadata": {},
     "output_type": "execute_result"
    }
   ],
   "source": [
    "vader"
   ]
  },
  {
   "cell_type": "code",
   "execution_count": 28,
   "metadata": {
    "collapsed": true
   },
   "outputs": [],
   "source": [
    "def get_movies_for_person(person):\n",
    "    film_titles = []\n",
    "    for film in person['films']:\n",
    "        film_titles.append(requests.get(film).json()['title'])\n",
    "    return film_titles"
   ]
  },
  {
   "cell_type": "code",
   "execution_count": 29,
   "metadata": {
    "collapsed": false
   },
   "outputs": [
    {
     "data": {
      "text/plain": [
       "['Revenge of the Sith',\n",
       " 'Return of the Jedi',\n",
       " 'The Empire Strikes Back',\n",
       " 'A New Hope']"
      ]
     },
     "execution_count": 29,
     "metadata": {},
     "output_type": "execute_result"
    }
   ],
   "source": [
    "get_movies_for_person(vader)"
   ]
  },
  {
   "cell_type": "code",
   "execution_count": 54,
   "metadata": {
    "collapsed": true
   },
   "outputs": [],
   "source": [
    "\n",
    "def clean_people(people_list):\n",
    "    return [{\"id\": int(people['url'].split(\"/\")[-2]), \n",
    "            \"name\": people['name'], \n",
    "            \"films\": people['films']\n",
    "            } for people in people_list]\n",
    "\n",
    "def get_all_people():\n",
    "    return clean_people(requests.get(\"http://swapi.co/api/people/\").json()['results'])\n"
   ]
  },
  {
   "cell_type": "code",
   "execution_count": 55,
   "metadata": {
    "collapsed": false
   },
   "outputs": [],
   "source": [
    "def get_people_details(input_name):\n",
    "    cleaned_people = get_all_people()\n",
    "    for people in cleaned_people:\n",
    "        if people['name'] == input_name:\n",
    "            return people\n"
   ]
  },
  {
   "cell_type": "code",
   "execution_count": 56,
   "metadata": {
    "collapsed": false
   },
   "outputs": [
    {
     "data": {
      "text/plain": [
       "['Revenge of the Sith',\n",
       " 'Return of the Jedi',\n",
       " 'The Empire Strikes Back',\n",
       " 'A New Hope']"
      ]
     },
     "execution_count": 56,
     "metadata": {},
     "output_type": "execute_result"
    }
   ],
   "source": [
    "get_movies_for_person(get_people_details(\"Darth Vader\"))"
   ]
  },
  {
   "cell_type": "code",
   "execution_count": null,
   "metadata": {
    "collapsed": true
   },
   "outputs": [],
   "source": []
  }
 ],
 "metadata": {
  "kernelspec": {
   "display_name": "Python 3",
   "language": "python",
   "name": "python3"
  },
  "language_info": {
   "codemirror_mode": {
    "name": "ipython",
    "version": 3
   },
   "file_extension": ".py",
   "mimetype": "text/x-python",
   "name": "python",
   "nbconvert_exporter": "python",
   "pygments_lexer": "ipython3",
   "version": "3.4.3"
  }
 },
 "nbformat": 4,
 "nbformat_minor": 0
}
